{
 "cells": [
  {
   "cell_type": "code",
   "execution_count": 1,
   "id": "d50f68ca",
   "metadata": {},
   "outputs": [],
   "source": [
    "import numpy\n",
    "import matplotlib.pyplot as plt\n",
    "from sscPimega import pi540D, pi135D"
   ]
  },
  {
   "cell_type": "markdown",
   "id": "70bf8700",
   "metadata": {},
   "source": [
    "## Generate LUT for 540D"
   ]
  },
  {
   "cell_type": "code",
   "execution_count": 2,
   "id": "180c3822",
   "metadata": {},
   "outputs": [],
   "source": [
    "img = numpy.load('SiriusImage3072x3072.npy') * 2**16\n",
    "\n",
    "distance = 100 #mm\n",
    "\n",
    "params = {'geo': 'nonplanar', 'opt': False, 'mode': 'virtual', 'fill': False, 'susp': 3}\n",
    "\n",
    "project = pi540D.dictionary540D(distance, params )\n",
    "\n",
    "geometry = pi540D.geometry540D( project )\n",
    "\n",
    "forw = pi540D.forward540D( img , geometry )\n",
    "\n",
    "rest = pi540D.backward540D( forw , geometry )\n",
    "\n",
    "forw.astype(numpy.uint32).tofile('rawSimulated540D.b')\n",
    "\n",
    "# This is the only thing really important for the backend \n",
    "geometry['LUT'][0].tofile('y540D.b')\n",
    "geometry['LUT'][1].tofile('x540D.b')"
   ]
  },
  {
   "cell_type": "markdown",
   "id": "ca80a5de",
   "metadata": {},
   "source": [
    "## Generate LUT for 135D "
   ]
  },
  {
   "cell_type": "code",
   "execution_count": 3,
   "id": "8553c6da",
   "metadata": {},
   "outputs": [
    {
     "name": "stderr",
     "output_type": "stream",
     "text": [
      "/var/folders/f4/dpd0cyvd67g32wcts325pydw0000gn/T/ipykernel_10665/1249896294.py:15: RuntimeWarning: invalid value encountered in cast\n",
      "  forw.astype(numpy.uint32).tofile('rawSimulated135D.b')\n"
     ]
    }
   ],
   "source": [
    "img = numpy.load('SiriusImage1536x1536.npy') * 2**16\n",
    "\n",
    "distance = 100 #mm\n",
    "\n",
    "params = {'geo': 'nonplanar', 'opt': False, 'mode': 'virtual', 'fill': False, 'susp': 3}\n",
    "\n",
    "project = pi135D.dictionary135D(distance, params )\n",
    "\n",
    "geometry = pi135D.geometry135D( project )\n",
    "\n",
    "forw = pi135D.forward135D( img , geometry )\n",
    "\n",
    "rest = pi135D.backward135D( forw , geometry )\n",
    "\n",
    "forw.astype(numpy.uint32).tofile('rawSimulated135D.b')\n",
    "\n",
    "# This is the only thing really important for the backend \n",
    "geometry['LUT'][0].tofile('y135D.b')\n",
    "geometry['LUT'][1].tofile('x135D.b')"
   ]
  }
 ],
 "metadata": {
  "kernelspec": {
   "display_name": "Python 3 (ipykernel)",
   "language": "python",
   "name": "python3"
  },
  "language_info": {
   "codemirror_mode": {
    "name": "ipython",
    "version": 3
   },
   "file_extension": ".py",
   "mimetype": "text/x-python",
   "name": "python",
   "nbconvert_exporter": "python",
   "pygments_lexer": "ipython3",
   "version": "3.11.3"
  }
 },
 "nbformat": 4,
 "nbformat_minor": 5
}
