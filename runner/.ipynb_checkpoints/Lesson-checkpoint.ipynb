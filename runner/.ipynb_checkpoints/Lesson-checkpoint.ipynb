{
 "cells": [
  {
   "cell_type": "code",
   "execution_count": 1,
   "metadata": {},
   "outputs": [],
   "source": [
    "import numpy\n",
    "import h5py\n",
    "import matplotlib.pyplot as plt\n",
    "import time\n",
    "from PIL import Image\n",
    "\n",
    "from sscPimega import misc\n",
    "from sscPimega import pi450D\n",
    "from sscPimega import pi540D\n",
    "from sscPimega import pi135D\n",
    "from sscPimega import opt540D\n",
    "\n",
    "FIGSIZE=10\n",
    "FIGSIZEA=20"
   ]
  },
  {
   "cell_type": "markdown",
   "metadata": {},
   "source": [
    "# Pi135D (nonplanar)"
   ]
  },
  {
   "cell_type": "markdown",
   "metadata": {},
   "source": [
    "## (a) Rings simulation"
   ]
  },
  {
   "cell_type": "code",
   "execution_count": null,
   "metadata": {},
   "outputs": [],
   "source": [
    "img = misc.rings(N=1536, cx=512, cy=768, n=6)\n",
    "\n",
    "plt.figure(figsize=(FIGSIZE,FIGSIZE))\n",
    "plt.imshow(img)\n",
    "plt.axis('off')"
   ]
  },
  {
   "cell_type": "markdown",
   "metadata": {},
   "source": [
    "## (b) Building the geometry"
   ]
  },
  {
   "cell_type": "code",
   "execution_count": null,
   "metadata": {},
   "outputs": [],
   "source": [
    "distance = 40 #mm\n",
    "\n",
    "params = {'geo': 'nonplanar', 'opt': False, 'mode': 'virtual', 'fill': True, 'susp': 3}\n",
    "\n",
    "project = pi135D.dictionary135D(distance, params )\n",
    "\n",
    "geometry = pi135D.geometry135D( project )"
   ]
  },
  {
   "cell_type": "markdown",
   "metadata": {},
   "source": [
    "## (c) Forward simulation"
   ]
  },
  {
   "cell_type": "code",
   "execution_count": null,
   "metadata": {},
   "outputs": [],
   "source": [
    "forw = pi135D.forward135D(img,  geometry )\n",
    "\n",
    "plt.figure(figsize=(FIGSIZE,FIGSIZE))\n",
    "plt.imshow( forw )\n",
    "plt.axis('off')"
   ]
  },
  {
   "cell_type": "markdown",
   "metadata": {},
   "source": [
    "## (b) Backward restoration"
   ]
  },
  {
   "cell_type": "code",
   "execution_count": null,
   "metadata": {
    "scrolled": false
   },
   "outputs": [],
   "source": [
    "back = pi135D.backward135D ( forw, geometry )\n",
    "\n",
    "plt.figure(figsize=(FIGSIZE,FIGSIZE))\n",
    "plt.imshow( back )\n",
    "plt.axis('off')"
   ]
  },
  {
   "cell_type": "markdown",
   "metadata": {},
   "source": [
    "# Pi135D (planar)"
   ]
  },
  {
   "cell_type": "markdown",
   "metadata": {},
   "source": [
    "## (a) Building the geometry"
   ]
  },
  {
   "cell_type": "code",
   "execution_count": null,
   "metadata": {},
   "outputs": [],
   "source": [
    "params = {'geo': 'planar', 'opt': False, 'mode': 'real', 'fill': True, 'susp': 3}\n",
    "\n",
    "project = pi135D.dictionary135D( -1 , params )\n",
    "\n",
    "geometry = pi135D.geometry135D( project )"
   ]
  },
  {
   "cell_type": "markdown",
   "metadata": {},
   "source": [
    "## (b) Forward simulation "
   ]
  },
  {
   "cell_type": "code",
   "execution_count": null,
   "metadata": {},
   "outputs": [],
   "source": [
    "forw = pi135D.forward135D(img,  geometry )\n",
    "\n",
    "plt.figure(figsize=(FIGSIZE,FIGSIZE))\n",
    "plt.imshow( forw )\n",
    "plt.axis('off')\n"
   ]
  },
  {
   "cell_type": "markdown",
   "metadata": {},
   "source": [
    "## (c) Backward restoration"
   ]
  },
  {
   "cell_type": "code",
   "execution_count": null,
   "metadata": {
    "scrolled": false
   },
   "outputs": [],
   "source": [
    "back = pi135D.backward135D ( forw, geometry )\n",
    "\n",
    "plt.figure(figsize=(FIGSIZE,FIGSIZE))\n",
    "plt.imshow( back )\n",
    "plt.axis('off')"
   ]
  },
  {
   "cell_type": "markdown",
   "metadata": {},
   "source": [
    "# Pi540D (nonplanar)"
   ]
  },
  {
   "cell_type": "markdown",
   "metadata": {},
   "source": [
    "## (a) Rings simulation"
   ]
  },
  {
   "cell_type": "code",
   "execution_count": null,
   "metadata": {},
   "outputs": [],
   "source": [
    "img = misc.rings(N=3072, cx=512, cy=768, n=6)"
   ]
  },
  {
   "cell_type": "markdown",
   "metadata": {},
   "source": [
    "## (b) Building the geometry"
   ]
  },
  {
   "cell_type": "code",
   "execution_count": null,
   "metadata": {},
   "outputs": [],
   "source": [
    "distance = 40 #mm\n",
    "\n",
    "params = {'geo': 'nonplanar', 'opt': False, 'mode': 'virtual', 'fill': False, 'susp': 30}\n",
    "\n",
    "project = pi540D.dictionary540D(distance, params )\n",
    "\n",
    "geometry = pi540D.geometry540D( project )"
   ]
  },
  {
   "cell_type": "markdown",
   "metadata": {},
   "source": [
    "## (c)  Forward simulation"
   ]
  },
  {
   "cell_type": "code",
   "execution_count": null,
   "metadata": {},
   "outputs": [],
   "source": [
    "forw = pi540D.forward540D(img,  geometry )\n",
    "\n",
    "plt.figure(figsize=(FIGSIZE,FIGSIZE))\n",
    "plt.imshow( forw )\n",
    "plt.axis('off')"
   ]
  },
  {
   "cell_type": "markdown",
   "metadata": {},
   "source": [
    "## (d) Backward restoration"
   ]
  },
  {
   "cell_type": "code",
   "execution_count": null,
   "metadata": {},
   "outputs": [],
   "source": [
    "back = pi540D.backward540D ( forw, geometry )\n",
    "\n",
    "plt.figure(figsize=(FIGSIZE,FIGSIZE))\n",
    "plt.imshow( back )\n",
    "plt.axis('off')"
   ]
  },
  {
   "cell_type": "markdown",
   "metadata": {},
   "source": [
    "# Pi540D (planar)"
   ]
  },
  {
   "cell_type": "markdown",
   "metadata": {},
   "source": [
    "## (a) Building the geometry"
   ]
  },
  {
   "cell_type": "code",
   "execution_count": null,
   "metadata": {},
   "outputs": [],
   "source": [
    "params = {'geo': 'planar', 'opt': False, 'mode': 'real', 'fill': False, 'susp': 3}\n",
    "\n",
    "project = pi540D.dictionary540D( -1 , params )\n",
    "\n",
    "geometry = pi540D.geometry540D( project )"
   ]
  },
  {
   "cell_type": "markdown",
   "metadata": {},
   "source": [
    "## (b) Forward simulation"
   ]
  },
  {
   "cell_type": "code",
   "execution_count": null,
   "metadata": {
    "scrolled": false
   },
   "outputs": [],
   "source": [
    "forw = pi540D.forward540D(img,  geometry )\n",
    "\n",
    "plt.figure(figsize=(FIGSIZE,FIGSIZE))\n",
    "plt.imshow( forw )\n",
    "plt.axis('off')"
   ]
  },
  {
   "cell_type": "markdown",
   "metadata": {},
   "source": [
    "## (c) Backward restoration"
   ]
  },
  {
   "cell_type": "code",
   "execution_count": null,
   "metadata": {},
   "outputs": [],
   "source": [
    "back = pi540D.backward540D ( forw, geometry )\n",
    "\n",
    "plt.figure(figsize=(FIGSIZE,FIGSIZE))\n",
    "plt.imshow( back )\n",
    "plt.axis('off')"
   ]
  },
  {
   "cell_type": "markdown",
   "metadata": {},
   "source": [
    "# Pi450D (arc)"
   ]
  },
  {
   "cell_type": "markdown",
   "metadata": {},
   "source": [
    "## (a) Building the geometry"
   ]
  },
  {
   "cell_type": "code",
   "execution_count": null,
   "metadata": {},
   "outputs": [],
   "source": [
    "angle = -30\n",
    "\n",
    "params  = {'geo':'arc','opt': False, 'mode':'virtual', 'susp': 3, 'fill': False }\n",
    "\n",
    "project = pi450D.dictionary450D( angle, params )\n",
    "\n",
    "geometry = pi450D.geometry450D( project )"
   ]
  },
  {
   "cell_type": "markdown",
   "metadata": {},
   "source": [
    "## (b) Forward simulation"
   ]
  },
  {
   "cell_type": "code",
   "execution_count": null,
   "metadata": {},
   "outputs": [],
   "source": [
    "rings, stripes  = pi450D.rings450D( project, 5)\n",
    "\n",
    "plt.figure(figsize=(FIGSIZEA,FIGSIZEA))\n",
    "plt.imshow( rings )\n",
    "plt.axis('off')\n",
    "\n",
    "print('Reaching stripes @ {} degrees:'.format(angle),stripes)"
   ]
  },
  {
   "cell_type": "markdown",
   "metadata": {},
   "source": [
    "## (c) Backward restoration "
   ]
  },
  {
   "cell_type": "code",
   "execution_count": null,
   "metadata": {},
   "outputs": [],
   "source": [
    "rest = pi450D.backward450D( rings , geometry)\n",
    "\n",
    "vmax = 1\n",
    "\n",
    "plt.figure(figsize=(FIGSIZEA,FIGSIZEA))\n",
    "plt.title('Image Head')\n",
    "plt.imshow( rest[:,0:10240], vmax=vmax)\n",
    "plt.axis('off')\n",
    "\n",
    "plt.figure(figsize=(FIGSIZEA,FIGSIZEA))\n",
    "plt.title('Image Tail')\n",
    "plt.imshow( rest[:,10240:20480], vmax=vmax)\n",
    "plt.axis('off')\n",
    "\n",
    "plt.figure(figsize=(FIGSIZEA,FIGSIZEA))\n",
    "plt.title('Image Center')\n",
    "plt.imshow( rest[:,20480:30720], vmax=vmax)\n",
    "plt.axis('off')"
   ]
  },
  {
   "cell_type": "markdown",
   "metadata": {},
   "source": [
    "# Batch 135D / 540D / 450D"
   ]
  },
  {
   "cell_type": "markdown",
   "metadata": {},
   "source": [
    "## (a) Block of images"
   ]
  },
  {
   "cell_type": "code",
   "execution_count": null,
   "metadata": {},
   "outputs": [],
   "source": [
    "distance = 40 #mm\n",
    "\n",
    "params = {'geo': 'nonplanar', 'opt': False, 'mode': 'virtual', 'fill': True, 'susp': 3}\n",
    "\n",
    "project = pi135D.dictionary135D(distance, params )\n",
    "\n",
    "geometry = pi135D.geometry135D( project )\n",
    "\n",
    "img = misc.rings(N=1536, cx=512, cy=768, n=6)\n",
    "\n",
    "forw = pi135D.forward135D(img,  geometry)\n",
    "\n",
    "#building a block with 100 images\n",
    "measure = numpy.zeros([100, 1536, 1536])\n",
    "for k in range(measure.shape[0]):\n",
    "    measure[k,:,:] = forw"
   ]
  },
  {
   "cell_type": "markdown",
   "metadata": {},
   "source": [
    "## (b) Operation over the block (with restoration)"
   ]
  },
  {
   "cell_type": "code",
   "execution_count": null,
   "metadata": {},
   "outputs": [],
   "source": [
    "args = ( geometry, )\n",
    "\n",
    "def myfun(img, args ):\n",
    "\n",
    "    geo  = args[0]\n",
    "    \n",
    "    rest = pi540D.backward540D ( img , geometry )\n",
    "    \n",
    "    #the output has shape [512,512]\n",
    "    roi = rest[768 - 256 : 768 + 256, 768 - 256 : 768 + 256 ]\n",
    "    \n",
    "    return roi\n",
    "\n",
    "output = misc.batch(measure, 20, [512, 512], myfun, args)"
   ]
  },
  {
   "cell_type": "markdown",
   "metadata": {},
   "source": [
    "# GPU Accelerating"
   ]
  },
  {
   "cell_type": "code",
   "execution_count": null,
   "metadata": {},
   "outputs": [],
   "source": [
    "img = misc.rings(N=3072, cx=512, cy=768, n=6)\n",
    "\n",
    "distance = 40 #mm\n",
    "\n",
    "params = {'geo': 'nonplanar', 'opt': False, 'mode': 'virtual', 'fill': False, 'susp': 10, 'gpu': 0 }\n",
    "\n",
    "project = pi540D.dictionary540D(distance, params )\n",
    "\n",
    "geometry = pi540D.geometry540D( project )\n",
    "\n",
    "forw = pi540D.forward540D(img,  geometry )\n",
    "\n",
    "measure = numpy.zeros([625, 3072, 3072])\n",
    "for k in range(measure.shape[0]):\n",
    "    measure[k,:,:] = forw\n",
    "    \n",
    "print(geometry['gpu'])\n",
    "\n",
    "print(geometry['typedet'])"
   ]
  },
  {
   "cell_type": "code",
   "execution_count": null,
   "metadata": {},
   "outputs": [],
   "source": [
    "back = pi540D.backward540D( measure[0,:,:], geometry)\n",
    "\n",
    "print(back.shape)\n",
    "plt.figure(figsize=(FIGSIZE,FIGSIZE))\n",
    "plt.imshow( back )\n",
    "plt.axis('off')\n"
   ]
  },
  {
   "cell_type": "code",
   "execution_count": null,
   "metadata": {
    "scrolled": false
   },
   "outputs": [],
   "source": [
    "start = time.time()\n",
    "\n",
    "blockSize = 10\n",
    "nblocks = measure.shape[0] // (blockSize-1)\n",
    "\n",
    "for k in range( blockSize ):\n",
    "\n",
    "    blockImg = measure[k * nblocks: min( (k+1)*nblocks, measure.shape[0] ), :, :]\n",
    "\n",
    "    #print(k,  k * nblocks, min( (k+1)*nblocks, measure.shape[0] ))\n",
    "    \n",
    "    back = pi540D.backward540D( blockImg, geometry)\n",
    "\n",
    "    \n",
    "print('Elapsed:', time.time() - start)\n",
    "\n"
   ]
  },
  {
   "cell_type": "markdown",
   "metadata": {},
   "source": [
    "# Annotating points at Pi540D "
   ]
  },
  {
   "cell_type": "code",
   "execution_count": 24,
   "metadata": {},
   "outputs": [
    {
     "data": {
      "text/plain": [
       "(-0.5, 399.5, 399.5, -0.5)"
      ]
     },
     "execution_count": 24,
     "metadata": {},
     "output_type": "execute_result"
    },
    {
     "data": {
      "image/png": "[encoded data removed]",
      "text/plain": [
       "<Figure size 1440x1440 with 2 Axes>"
      ]
     },
     "metadata": {
      "needs_background": "light"
     },
     "output_type": "display_data"
    }
   ],
   "source": [
    "img = misc.rings(N=3072, cx=512, cy=650, n=6)\n",
    "\n",
    "distance = 40 #mm\n",
    "\n",
    "params = {'geo': 'nonplanar', 'opt': True, 'mode': 'virtual'} #, 'fill': False, 'susp': 10, 'gpu': 0 }\n",
    "\n",
    "project = pi540D.dictionary540D(distance, params )\n",
    "\n",
    "geometry = pi540D.geometry540D( project )\n",
    "forw     = pi540D.forward540D(img,  geometry )\n",
    "\n",
    "ax = 520\n",
    "ay = 655\n",
    "\n",
    "#adding an roi-neighborhood just to 'see' the annotated point\n",
    "roi = 2\n",
    "forw[ay-roi:ay+roi,ax-roi:ax+roi] = 4\n",
    "\n",
    "fig = plt.figure(figsize=(20, 20))\n",
    "\n",
    "ax1 = fig.add_subplot(131)\n",
    "ax1.imshow(forw)\n",
    "ax1.axis('off')\n",
    "\n",
    "ax2 = fig.add_subplot(132)\n",
    "roi = 200\n",
    "ax2.imshow(forw[ay-roi:ay+roi,ax-roi:ax+roi])\n",
    "ax2.set_title('Annotated center: x={} & y={}'.format(ax,ay))\n",
    "ax2.axis('off')"
   ]
  },
  {
   "cell_type": "code",
   "execution_count": 25,
   "metadata": {
    "scrolled": true
   },
   "outputs": [
    {
     "data": {
      "text/plain": [
       "(-0.5, 399.5, 399.5, -0.5)"
      ]
     },
     "execution_count": 25,
     "metadata": {},
     "output_type": "execute_result"
    },
    {
     "data": {
      "image/png": "[encoded data removed]",
      "text/plain": [
       "<Figure size 1440x1440 with 2 Axes>"
      ]
     },
     "metadata": {
      "needs_background": "light"
     },
     "output_type": "display_data"
    }
   ],
   "source": [
    "rx, ry = opt540D.mapping540D( ax, ay, project)\n",
    "\n",
    "rest = pi540D.backward540D ( forw , geometry )\n",
    "\n",
    "roi = 2\n",
    "rest[ ry-roi:ry+roi, rx-roi:rx+roi  ] = 4\n",
    "\n",
    "fig = plt.figure(figsize=(20, 20))\n",
    "\n",
    "ax1 = fig.add_subplot(131)\n",
    "ax1.imshow(rest)\n",
    "ax1.axis('off')\n",
    "\n",
    "ax2 = fig.add_subplot(132)\n",
    "roi = 200\n",
    "ax2.imshow(rest[ry-roi:ry+roi,rx-roi:rx+roi])\n",
    "ax2.set_title('Restored center: x={} & y={}'.format(rx,ry))\n",
    "ax2.axis('off')"
   ]
  },
  {
   "cell_type": "markdown",
   "metadata": {},
   "source": [
    "# Read and restore a volume "
   ]
  },
  {
   "cell_type": "markdown",
   "metadata": {},
   "source": [
    "# (a) Single volume"
   ]
  },
  {
   "cell_type": "code",
   "execution_count": 3,
   "metadata": {},
   "outputs": [
    {
     "name": "stdout",
     "output_type": "stream",
     "text": [
      "Elapsed: 49.885843992233276\n"
     ]
    }
   ],
   "source": [
    "from sscPimega import pi540D, opt540D\n",
    "\n",
    "distance = 20000\n",
    "params   = {'geo': 'nonplanar', 'opt': True, 'mode': 'virtual' ,'susp': 5}\n",
    "project  = pi540D.dictionary540D(distance, params )\n",
    "geometry = pi540D.geometry540D( project )\n",
    "\n",
    "ax = 1426\n",
    "ay = 1384\n",
    "rx, ry = opt540D.mapping540D( ax, ay, project)\n",
    "\n",
    "flat = h5py.File('/ibira/lnls/beamlines/caterete/apps/scans/FF/2023-01-18-FF6keV.hdf5')['entry/data/data'][0,0,:,:]\n",
    "bkg  = h5py.File('/ibira/lnls/beamlines/caterete/proposals/20230614/data/3Dcdi/logo3Dcdi_bkg_0001.hdf5')['entry/data/data'][0,0,:,:]\n",
    "mask = h5py.File('/ibira/lnls/beamlines/caterete/apps/scans/mask/basemask_150223_tiago2.hdf5')['entry/data/data'][0,0,:,:]\n",
    "\n",
    "dic = {}\n",
    "dic['path']     = \"/ibira/lnls/beamlines/caterete/proposals/20230614/data/3Dcdi/logo3Dcdi_0000.hdf5\"\n",
    "dic['outpath']  = \"/home/ABTLUS/eduardo.miqueles/test/\"\n",
    "dic['order']    = \"yx\"\n",
    "dic['rank']     = \"ztyx\"\n",
    "dic['dataset']  = \"entry/data/data\"\n",
    "dic['gpus']     = [5]\n",
    "dic['init']     = 0\n",
    "dic['final']    = -1\n",
    "dic['saving']   = 1\n",
    "dic['timing']   = 1\n",
    "dic['blocksize']= 10\n",
    "dic['daxpy']    = [-1, bkg]\n",
    "dic['geometry'] = geometry\n",
    "dic['roi']      = 512\n",
    "dic['center']   = [rx, ry]\n",
    "dic['flat']     = flat\n",
    "dic['empty']    = numpy.zeros([3072,3072])\n",
    "dic['mask']     = maska\n",
    "\n",
    "start = time.time()\n",
    "\n",
    "uid, nimgs = pi540D.ioSet_Backward540D( dic )\n",
    "\n",
    "output = pi540D.ioGet_Backward540D( dic, uid, nimgs )\n",
    "\n",
    "pi540D.ioClean_Backward540D( dic, uid )\n",
    "\n",
    "elapsed = time.time() - start\n",
    "\n",
    "print('Elapsed: {}'.format(elapsed))"
   ]
  },
  {
   "cell_type": "markdown",
   "metadata": {},
   "source": [
    "# (b) Mutiple volumes"
   ]
  },
  {
   "cell_type": "code",
   "execution_count": null,
   "metadata": {},
   "outputs": [],
   "source": [
    "from sscPimega import pi540D\n",
    "\n",
    "distance = 20000\n",
    "params   = {'geo': 'nonplanar', 'opt': True, 'mode': 'virtual' ,'susp': 5}\n",
    "project  = pi540D.dictionary540D(distance, params )\n",
    "geometry = pi540D.geometry540D( project )\n",
    "\n",
    "datapath = '/ibira/lnls/beamlines/caterete/apps/gcc-jupyter/00000000/data/ptycho3d/glass21/'\n",
    "\n",
    "dic = {}\n",
    "dic['path']     = sorted( glob.glob( datapath + '/scans/*.hdf5') )\n",
    "dic['outpath']  = \"/home/ABTLUS/eduardo.miqueles/test/\"\n",
    "dic['order']    = \"yx\"\n",
    "dic['rank']     = \"ztyx\"\n",
    "dic['dataset']  = \"entry/data/data\"\n",
    "dic['gpus']     = [2,3,4,5]\n",
    "dic['init']     = 0\n",
    "dic['final']    = -1\n",
    "dic['saving']   = 1\n",
    "dic['timing']   = 1\n",
    "dic['blocksize']= 10\n",
    "dic['geometry'] = geometry\n",
    "dic['roi']      = 256\n",
    "dic['center']   = [1328,1450]\n",
    "dic['flat']     = h5py.File( datapath + '/images/flat.hdf5','r')['entry/data/data'][0,0,:,:]\n",
    "dic['empty']    = h5py.File( datapath + '/images/empty.hdf5','r')['entry/data/data'][0,0,:,:]\n",
    "\n",
    "start = time.time()\n",
    "\n",
    "info = pi540D.ioSetM_Backward540D( dic )\n",
    "\n",
    "output = pi540D.ioGetM_Backward540D( dic, info, 3)\n",
    "\n",
    "pi540D.ioCleanM_Backward540D( dic, info )\n",
    "\n",
    "elapsed = time.time() - start\n",
    "\n",
    "print('Elapsed: {}'.format(elapsed))"
   ]
  }
 ],
 "metadata": {
  "kernelspec": {
   "display_name": "Python 3",
   "language": "python",
   "name": "python3"
  },
  "language_info": {
   "codemirror_mode": {
    "name": "ipython",
    "version": 3
   },
   "file_extension": ".py",
   "mimetype": "text/x-python",
   "name": "python",
   "nbconvert_exporter": "python",
   "pygments_lexer": "ipython3",
   "version": "3.6.9"
  }
 },
 "nbformat": 4,
 "nbformat_minor": 4
}
